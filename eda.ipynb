{
 "cells": [
  {
   "cell_type": "code",
   "execution_count": 1,
   "id": "d1c0779e-0afd-4e01-8871-edd40f88159f",
   "metadata": {},
   "outputs": [
    {
     "name": "stderr",
     "output_type": "stream",
     "text": [
      "INFO:root:test\n"
     ]
    }
   ],
   "source": [
    "import click\n",
    "import glob\n",
    "import logging\n",
    "import os\n",
    "import tarfile\n",
    "\n",
    "\n",
    "from geocovid.constants import DATA_DIR, TMP_DIR\n",
    "from geocovid.data_pipeline import extract_data_spark, transform_data_spark\n",
    "from geocovid.model import GeoCovidModel\n",
    "from geocovid.utils import start_spark\n",
    "\n",
    "logger = logging.getLogger()\n",
    "logger.setLevel(logging.INFO)\n",
    "logging.info(\"test\")"
   ]
  },
  {
   "cell_type": "code",
   "execution_count": 7,
   "id": "c2912aaf-2142-4a10-a65c-cec6edbd8b18",
   "metadata": {},
   "outputs": [
    {
     "name": "stderr",
     "output_type": "stream",
     "text": [
      "INFO:root:dirname /tmp/geocovid/iso_date=2020-06-01\n",
      "INFO:root:dirname /tmp/geocovid/iso_date=2020-06-02\n",
      "INFO:root:dirname /tmp/geocovid/iso_date=2020-06-03\n",
      "INFO:root:dirname /tmp/geocovid/iso_date=2020-06-04\n",
      "INFO:root:dirname /tmp/geocovid/iso_date=2020-06-05\n",
      "INFO:root:dirname /tmp/geocovid/iso_date=2020-06-06\n",
      "INFO:root:dirname /tmp/geocovid/iso_date=2020-06-07\n",
      "INFO:root:dirname /tmp/geocovid/iso_date=2020-06-08\n",
      "INFO:root:dirname /tmp/geocovid/iso_date=2020-06-09\n",
      "INFO:root:dirname /tmp/geocovid/iso_date=2020-06-10\n",
      "INFO:root:dirname /tmp/geocovid/iso_date=2020-06-11\n",
      "INFO:root:dirname /tmp/geocovid/iso_date=2020-06-12\n",
      "INFO:root:dirname /tmp/geocovid/iso_date=2020-06-13\n",
      "INFO:root:dirname /tmp/geocovid/iso_date=2020-06-14\n",
      "INFO:root:dirname /tmp/geocovid/iso_date=2020-06-15\n",
      "INFO:root:dirname /tmp/geocovid/iso_date=2020-06-16\n",
      "INFO:root:dirname /tmp/geocovid/iso_date=2020-06-17\n",
      "INFO:root:dirname /tmp/geocovid/iso_date=2020-06-18\n",
      "INFO:root:dirname /tmp/geocovid/iso_date=2020-06-19\n",
      "INFO:root:dirname /tmp/geocovid/iso_date=2020-06-20\n",
      "INFO:root:FAILED dirname /tmp/geocovid/iso_date=2020-06-21\n"
     ]
    }
   ],
   "source": [
    "files = glob.glob(os.path.join(DATA_DIR, \"*.tar.gz\"))\n",
    "sorted_files = sorted(files)\n",
    "\n",
    "for file in sorted_files:\n",
    "    with tarfile.open(file, \"r:gz\") as tfile:\n",
    "        path = os.path.join(TMP_DIR, os.path.basename(file).split(\".\")[0])\n",
    "        try:\n",
    "            tfile.extractall(path=TMP_DIR, members=tfile)\n",
    "            logger.info(\"dirname %s\", path)\n",
    "        except:\n",
    "            logger.info(\"FAILED dirname %s\", path)\n",
    "        tfile.close()"
   ]
  },
  {
   "cell_type": "code",
   "execution_count": 14,
   "id": "8e939073-9880-4548-8b7e-615186fe8830",
   "metadata": {},
   "outputs": [
    {
     "name": "stderr",
     "output_type": "stream",
     "text": [
      "                                                                                \r"
     ]
    }
   ],
   "source": [
    "#spark = start_spark()\n",
    "sdf = extract_data_spark(TMP_DIR, spark)"
   ]
  },
  {
   "cell_type": "code",
   "execution_count": 15,
   "id": "197598c5-13b3-4586-afbe-8f6945da91c1",
   "metadata": {},
   "outputs": [
    {
     "name": "stdout",
     "output_type": "stream",
     "text": [
      "+--------------------+----------+----------+----------+------------+----------+\n",
      "|                  id| timestamp|  latitude| longitude|  geohash_12|  iso_date|\n",
      "+--------------------+----------+----------+----------+------------+----------+\n",
      "|F50B8A545392ABFF4...|1592456953|-34.841015|   -55.989|6cb1vcqh3u45|2020-06-18|\n",
      "|F9334BAD08B17DC9F...|1592519793|-34.915546|-56.169582|6cb13gfd1ykc|2020-06-18|\n",
      "|BC0FDB9F2BEA2140F...|1592481848| -34.75533| -56.01496|6cb4m2gpsbfs|2020-06-18|\n",
      "|394DDABB5244132B4...|1592457048| -33.12643| -58.31124|6dne91e09d59|2020-06-18|\n",
      "|093A2CBDCC1F0D16A...|1592518731| -34.71241|-55.956306|6cb4w8vce9fq|2020-06-18|\n",
      "|056F5AF6AEDC28A87...|1592505926|-34.651134|-56.588478|69zfb7cw8bk7|2020-06-18|\n",
      "|49C56ABAD402DE3B6...|1592446707|-34.813244| -56.22547|6cb1bw3y5t4u|2020-06-18|\n",
      "|DC27F4E50AE37C401...|1592482385|-31.346367|-57.859383|6dqvems44tt6|2020-06-18|\n",
      "|859EE2C24A5CAFB35...|1592493144|-34.906605|-56.154625|6cb16jmqq2vn|2020-06-18|\n",
      "|9D138D3A857CE4CE3...|1592454620| -34.92201| -56.15641|6cb164shsc6w|2020-06-18|\n",
      "+--------------------+----------+----------+----------+------------+----------+\n",
      "only showing top 10 rows\n",
      "\n"
     ]
    }
   ],
   "source": [
    "sdf.show(10)"
   ]
  },
  {
   "cell_type": "code",
   "execution_count": 16,
   "id": "9b7f4b8f-49d8-4edf-97c9-23148e4e5d3f",
   "metadata": {},
   "outputs": [
    {
     "name": "stderr",
     "output_type": "stream",
     "text": [
      "                                                                                \r"
     ]
    },
    {
     "data": {
      "text/plain": [
       "33647"
      ]
     },
     "execution_count": 16,
     "metadata": {},
     "output_type": "execute_result"
    }
   ],
   "source": [
    "sdf.select('id').distinct().count()"
   ]
  },
  {
   "cell_type": "code",
   "execution_count": 17,
   "id": "4f4f7a7b-401b-488b-b4a9-1cd9b469de61",
   "metadata": {},
   "outputs": [],
   "source": [
    "sdf.createOrReplaceTempView(\"points\")"
   ]
  },
  {
   "cell_type": "code",
   "execution_count": 18,
   "id": "bcefe8c6-e253-4fcd-98bf-c750820b262e",
   "metadata": {},
   "outputs": [
    {
     "name": "stderr",
     "output_type": "stream",
     "text": [
      "[Stage 21:============================================>        (120 + 12) / 143]\r"
     ]
    },
    {
     "name": "stdout",
     "output_type": "stream",
     "text": [
      "+---------+\n",
      "|count(id)|\n",
      "+---------+\n",
      "| 41226296|\n",
      "+---------+\n",
      "\n"
     ]
    },
    {
     "name": "stderr",
     "output_type": "stream",
     "text": [
      "                                                                                \r"
     ]
    }
   ],
   "source": [
    "spark.sql(\"select distinct(count(id)) from points\").show()"
   ]
  },
  {
   "cell_type": "code",
   "execution_count": 19,
   "id": "6dc8a2bb-7a6c-4e2a-bf33-b7340bcedeec",
   "metadata": {},
   "outputs": [],
   "source": [
    "point_df = spark.sql(\n",
    "        \"\"\"\n",
    "        SELECT points.id, hour(cast(points.timestamp AS timestamp)) AS h,\n",
    "                ST_Envelope_Aggr(ST_Point(cast(points.latitude AS Decimal(24,20)),\n",
    "                                          cast(points.longitude AS Decimal(24,20)))) \n",
    "                AS geometry\n",
    "        FROM points group by h, id\n",
    "        \"\"\"\n",
    "    )"
   ]
  },
  {
   "cell_type": "code",
   "execution_count": 20,
   "id": "487c4b32-ecd1-468c-b82a-7d6b7fd1ddfc",
   "metadata": {},
   "outputs": [],
   "source": [
    "point_df.createOrReplaceTempView(\"points_agg\")"
   ]
  },
  {
   "cell_type": "code",
   "execution_count": 21,
   "id": "432a2b13-14dc-4d76-8afb-c1fe13f71d2a",
   "metadata": {},
   "outputs": [],
   "source": [
    "area_df = spark.sql(\n",
    "    \"\"\"\n",
    "    SELECT id, h, ST_Area(points_agg.geometry) as area\n",
    "    FROM points_agg\n",
    "    \"\"\"\n",
    ")"
   ]
  },
  {
   "cell_type": "code",
   "execution_count": 23,
   "id": "34ad78d1-74fe-4277-88d2-073d9771a586",
   "metadata": {},
   "outputs": [
    {
     "name": "stderr",
     "output_type": "stream",
     "text": [
      "[Stage 27:=========================================>           (157 + 12) / 200]\r"
     ]
    },
    {
     "name": "stdout",
     "output_type": "stream",
     "text": [
      "+-------+-----------------+\n",
      "|summary|                h|\n",
      "+-------+-----------------+\n",
      "|  count|           584223|\n",
      "|   mean|11.69547415969587|\n",
      "| stddev|6.918336370774114|\n",
      "|    min|                0|\n",
      "|    max|               23|\n",
      "+-------+-----------------+\n",
      "\n"
     ]
    },
    {
     "name": "stderr",
     "output_type": "stream",
     "text": [
      "                                                                                \r"
     ]
    }
   ],
   "source": [
    "area_df.describe('h').show()"
   ]
  },
  {
   "cell_type": "code",
   "execution_count": null,
   "id": "29944338-9004-4994-86d1-9c0df2c57b29",
   "metadata": {},
   "outputs": [],
   "source": [
    "    clean_df = spark.sql(\n",
    "        \"\"\"\n",
    "        SELECT id, h,\n",
    "            CASE WHEN ST_Area(points_agg.geometry) < 0.0001\n",
    "            THEN points_agg.geometry\n",
    "            ELSE ST_Centroid(points_agg.geometry)\n",
    "            END as geometry\n",
    "        FROM points_agg\n",
    "        \"\"\"\n",
    "    )"
   ]
  }
 ],
 "metadata": {
  "kernelspec": {
   "display_name": "Python 3 (ipykernel)",
   "language": "python",
   "name": "python3"
  },
  "language_info": {
   "codemirror_mode": {
    "name": "ipython",
    "version": 3
   },
   "file_extension": ".py",
   "mimetype": "text/x-python",
   "name": "python",
   "nbconvert_exporter": "python",
   "pygments_lexer": "ipython3",
   "version": "3.7.1"
  }
 },
 "nbformat": 4,
 "nbformat_minor": 5
}
