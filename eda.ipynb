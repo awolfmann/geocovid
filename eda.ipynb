{
 "cells": [
  {
   "cell_type": "code",
   "execution_count": 52,
   "id": "d1c0779e-0afd-4e01-8871-edd40f88159f",
   "metadata": {},
   "outputs": [
    {
     "name": "stderr",
     "output_type": "stream",
     "text": [
      "INFO:root:test\n"
     ]
    }
   ],
   "source": [
    "import click\n",
    "import glob\n",
    "import logging\n",
    "import os\n",
    "import tarfile\n",
    "\n",
    "\n",
    "from geocovid.constants import DATA_DIR, TMP_DIR\n",
    "from geocovid.data_pipeline import extract_data_spark, transform_data_spark\n",
    "from geocovid.model import GeoCovidModel\n",
    "from geocovid.utils import start_spark\n",
    "\n",
    "logger = logging.getLogger()\n",
    "logger.setLevel(logging.INFO)\n",
    "logging.info(\"test\")"
   ]
  },
  {
   "cell_type": "code",
   "execution_count": null,
   "id": "c2912aaf-2142-4a10-a65c-cec6edbd8b18",
   "metadata": {},
   "outputs": [],
   "source": [
    "files = glob.glob(os.path.join(DATA_DIR, \"*.tar.gz\"))\n",
    "sorted_files = sorted(files)\n",
    "print(sorted_files[-1])\n",
    "fname = '/Users/awolfmann/Documents/data_eng_challenge/grandata-challenge/geocovid/data/iso_date=2020-06-21.tar.gz'\n",
    "\n",
    "with tarfile.open(fname, \"r:gz\") as tfile:\n",
    "    path = os.path.join(TMP_DIR, os.path.basename(fname).split(\".\")[0])\n",
    "    #try:\n",
    "    tfile.extractall(path=path, members=tfile)\n",
    "    logger.info(\"dirname %s\", path)\n",
    "    #except:\n",
    "    #    logger.info(\"FAILED dirname %s\", path)\n",
    "    tfile.close()"
   ]
  },
  {
   "cell_type": "code",
   "execution_count": 14,
   "id": "8e939073-9880-4548-8b7e-615186fe8830",
   "metadata": {},
   "outputs": [
    {
     "name": "stderr",
     "output_type": "stream",
     "text": [
      "                                                                                \r"
     ]
    }
   ],
   "source": [
    "#spark = start_spark()\n",
    "sdf = extract_data_spark(TMP_DIR, spark)"
   ]
  },
  {
   "cell_type": "code",
   "execution_count": 15,
   "id": "197598c5-13b3-4586-afbe-8f6945da91c1",
   "metadata": {},
   "outputs": [
    {
     "name": "stdout",
     "output_type": "stream",
     "text": [
      "+--------------------+----------+----------+----------+------------+----------+\n",
      "|                  id| timestamp|  latitude| longitude|  geohash_12|  iso_date|\n",
      "+--------------------+----------+----------+----------+------------+----------+\n",
      "|F50B8A545392ABFF4...|1592456953|-34.841015|   -55.989|6cb1vcqh3u45|2020-06-18|\n",
      "|F9334BAD08B17DC9F...|1592519793|-34.915546|-56.169582|6cb13gfd1ykc|2020-06-18|\n",
      "|BC0FDB9F2BEA2140F...|1592481848| -34.75533| -56.01496|6cb4m2gpsbfs|2020-06-18|\n",
      "|394DDABB5244132B4...|1592457048| -33.12643| -58.31124|6dne91e09d59|2020-06-18|\n",
      "|093A2CBDCC1F0D16A...|1592518731| -34.71241|-55.956306|6cb4w8vce9fq|2020-06-18|\n",
      "|056F5AF6AEDC28A87...|1592505926|-34.651134|-56.588478|69zfb7cw8bk7|2020-06-18|\n",
      "|49C56ABAD402DE3B6...|1592446707|-34.813244| -56.22547|6cb1bw3y5t4u|2020-06-18|\n",
      "|DC27F4E50AE37C401...|1592482385|-31.346367|-57.859383|6dqvems44tt6|2020-06-18|\n",
      "|859EE2C24A5CAFB35...|1592493144|-34.906605|-56.154625|6cb16jmqq2vn|2020-06-18|\n",
      "|9D138D3A857CE4CE3...|1592454620| -34.92201| -56.15641|6cb164shsc6w|2020-06-18|\n",
      "+--------------------+----------+----------+----------+------------+----------+\n",
      "only showing top 10 rows\n",
      "\n"
     ]
    }
   ],
   "source": [
    "sdf.show(10)"
   ]
  },
  {
   "cell_type": "code",
   "execution_count": 16,
   "id": "9b7f4b8f-49d8-4edf-97c9-23148e4e5d3f",
   "metadata": {},
   "outputs": [
    {
     "name": "stderr",
     "output_type": "stream",
     "text": [
      "                                                                                \r"
     ]
    },
    {
     "data": {
      "text/plain": [
       "33647"
      ]
     },
     "execution_count": 16,
     "metadata": {},
     "output_type": "execute_result"
    }
   ],
   "source": [
    "sdf.select('id').distinct().count()"
   ]
  },
  {
   "cell_type": "code",
   "execution_count": 17,
   "id": "4f4f7a7b-401b-488b-b4a9-1cd9b469de61",
   "metadata": {},
   "outputs": [],
   "source": [
    "sdf.createOrReplaceTempView(\"points\")"
   ]
  },
  {
   "cell_type": "code",
   "execution_count": 18,
   "id": "bcefe8c6-e253-4fcd-98bf-c750820b262e",
   "metadata": {},
   "outputs": [
    {
     "name": "stderr",
     "output_type": "stream",
     "text": [
      "[Stage 21:============================================>        (120 + 12) / 143]\r"
     ]
    },
    {
     "name": "stdout",
     "output_type": "stream",
     "text": [
      "+---------+\n",
      "|count(id)|\n",
      "+---------+\n",
      "| 41226296|\n",
      "+---------+\n",
      "\n"
     ]
    },
    {
     "name": "stderr",
     "output_type": "stream",
     "text": [
      "                                                                                \r"
     ]
    }
   ],
   "source": [
    "spark.sql(\"select distinct(count(id)) from points\").show()"
   ]
  },
  {
   "cell_type": "code",
   "execution_count": 19,
   "id": "6dc8a2bb-7a6c-4e2a-bf33-b7340bcedeec",
   "metadata": {},
   "outputs": [],
   "source": [
    "point_df = spark.sql(\n",
    "        \"\"\"\n",
    "        SELECT points.id, hour(cast(points.timestamp AS timestamp)) AS h,\n",
    "                ST_Envelope_Aggr(ST_Point(cast(points.latitude AS Decimal(24,20)),\n",
    "                                          cast(points.longitude AS Decimal(24,20)))) \n",
    "                AS geometry\n",
    "        FROM points group by h, id\n",
    "        \"\"\"\n",
    "    )"
   ]
  },
  {
   "cell_type": "code",
   "execution_count": 20,
   "id": "487c4b32-ecd1-468c-b82a-7d6b7fd1ddfc",
   "metadata": {},
   "outputs": [],
   "source": [
    "point_df.createOrReplaceTempView(\"points_agg\")"
   ]
  },
  {
   "cell_type": "code",
   "execution_count": 21,
   "id": "432a2b13-14dc-4d76-8afb-c1fe13f71d2a",
   "metadata": {},
   "outputs": [],
   "source": [
    "area_df = spark.sql(\n",
    "    \"\"\"\n",
    "    SELECT id, h, ST_Area(points_agg.geometry) as area\n",
    "    FROM points_agg\n",
    "    \"\"\"\n",
    ")"
   ]
  },
  {
   "cell_type": "code",
   "execution_count": 31,
   "id": "2214b8f0-cfd0-4394-8cb8-9f4609ca8051",
   "metadata": {},
   "outputs": [],
   "source": [
    "area_df.createOrReplaceTempView(\"area_agg\")"
   ]
  },
  {
   "cell_type": "code",
   "execution_count": 24,
   "id": "34ad78d1-74fe-4277-88d2-073d9771a586",
   "metadata": {},
   "outputs": [
    {
     "name": "stderr",
     "output_type": "stream",
     "text": [
      "[Stage 30:===================================================>  (191 + 9) / 200]\r"
     ]
    },
    {
     "name": "stdout",
     "output_type": "stream",
     "text": [
      "+-------+------------------+\n",
      "|summary|              area|\n",
      "+-------+------------------+\n",
      "|  count|            584223|\n",
      "|   mean|1.0858138679404765|\n",
      "| stddev| 44.26251853277789|\n",
      "|    min|               0.0|\n",
      "|    max| 8057.251752344568|\n",
      "+-------+------------------+\n",
      "\n"
     ]
    },
    {
     "name": "stderr",
     "output_type": "stream",
     "text": [
      "                                                                                \r"
     ]
    }
   ],
   "source": [
    "area_df.describe('area').show()"
   ]
  },
  {
   "cell_type": "code",
   "execution_count": 27,
   "id": "c5e6a90e-f89d-475f-9360-271de6fe9d88",
   "metadata": {},
   "outputs": [
    {
     "name": "stderr",
     "output_type": "stream",
     "text": [
      "                                                                                \r"
     ]
    },
    {
     "data": {
      "text/plain": [
       "[1.757199999985329e-08]"
      ]
     },
     "execution_count": 27,
     "metadata": {},
     "output_type": "execute_result"
    }
   ],
   "source": [
    "area_df.approxQuantile(\"area\", [0.5], 0.25)"
   ]
  },
  {
   "cell_type": "code",
   "execution_count": 39,
   "id": "808cd150-8305-4e1f-861e-a0d3cfaa7842",
   "metadata": {},
   "outputs": [],
   "source": [
    "import pyspark.sql.functions as func"
   ]
  },
  {
   "cell_type": "code",
   "execution_count": 42,
   "id": "5e2fc642-2474-492c-9752-21d5bd3b7ba8",
   "metadata": {},
   "outputs": [
    {
     "name": "stderr",
     "output_type": "stream",
     "text": [
      "                                                                                \r"
     ]
    }
   ],
   "source": [
    "parea_df = area_df.toPandas()"
   ]
  },
  {
   "cell_type": "code",
   "execution_count": 50,
   "id": "915d8390-2bb9-4243-bf34-ad0a2cffae99",
   "metadata": {},
   "outputs": [
    {
     "name": "stdout",
     "output_type": "stream",
     "text": [
      "0\n",
      "0.00000045529500000081\n",
      "24536.00000000000000000000\n",
      "1\n",
      "0.00000014826050000209\n",
      "24032.00000000000000000000\n",
      "2\n",
      "0.00000007761199999960\n",
      "23424.00000000000000000000\n",
      "3\n",
      "0.00000005743050000012\n",
      "23084.00000000000000000000\n",
      "4\n",
      "0.00000004678699999925\n",
      "22678.00000000000000000000\n",
      "5\n",
      "0.00000005580000000100\n",
      "22523.00000000000000000000\n",
      "6\n",
      "0.00000009976000000147\n",
      "22769.00000000000000000000\n",
      "7\n",
      "0.00000091062900000236\n",
      "23201.00000000000000000000\n",
      "8\n",
      "0.00001448755200001102\n",
      "23733.00000000000000000000\n",
      "9\n",
      "0.00006267236700005315\n",
      "24136.00000000000000000000\n",
      "10\n",
      "0.00013973513000002208\n",
      "24497.00000000000000000000\n",
      "11\n",
      "0.00022934940000009110\n",
      "24707.00000000000000000000\n",
      "12\n",
      "0.00026734985500008284\n",
      "24965.00000000000000000000\n",
      "13\n",
      "0.00029252451799998514\n",
      "25023.00000000000000000000\n",
      "14\n",
      "0.00034699842600005896\n",
      "25028.00000000000000000000\n",
      "15\n",
      "0.00041569560999996617\n",
      "25111.00000000000000000000\n",
      "16\n",
      "0.00045578405400007274\n",
      "25149.00000000000000000000\n",
      "17\n",
      "0.00042327583499995175\n",
      "25152.00000000000000000000\n",
      "18\n",
      "0.00024910070899994554\n",
      "25133.00000000000000000000\n",
      "19\n",
      "0.00010760976800003886\n",
      "25039.00000000000000000000\n",
      "20\n",
      "0.00004763410399983323\n",
      "24991.00000000000000000000\n",
      "21\n",
      "0.00002205517799999369\n",
      "25237.00000000000000000000\n",
      "22\n",
      "0.00000656889999999504\n",
      "25111.00000000000000000000\n",
      "23\n",
      "0.00000194353999999986\n",
      "24964.00000000000000000000\n"
     ]
    }
   ],
   "source": [
    "for g, df in parea_df.groupby('h'):\n",
    "    print(g)\n",
    "    print('{:.20f}'.format(df.area.median()))\n",
    "    print('{:.20f}'.format(df.id.nunique()))"
   ]
  },
  {
   "cell_type": "markdown",
   "id": "0622cba1-1b80-4cfe-a545-d4d8c8b9a98d",
   "metadata": {},
   "source": [
    "## la gente no se mueve entre las 22 y las 7am -> mejorar computo unificando esa franja horaria.\n",
    "## momento de mayor pico de movimiento 15-18hs"
   ]
  },
  {
   "cell_type": "code",
   "execution_count": 48,
   "id": "2976c524-d6b0-4b98-8813-666bd5efa99a",
   "metadata": {},
   "outputs": [
    {
     "data": {
      "text/plain": [
       "(584223, 3)"
      ]
     },
     "execution_count": 48,
     "metadata": {},
     "output_type": "execute_result"
    }
   ],
   "source": [
    "parea_df.shape"
   ]
  },
  {
   "cell_type": "code",
   "execution_count": 49,
   "id": "d6d43626-84dd-452a-b9d1-b34eccfcae03",
   "metadata": {},
   "outputs": [
    {
     "data": {
      "text/plain": [
       "33647"
      ]
     },
     "execution_count": 49,
     "metadata": {},
     "output_type": "execute_result"
    }
   ],
   "source": [
    "parea_df.id.nunique()"
   ]
  },
  {
   "cell_type": "code",
   "execution_count": null,
   "id": "29944338-9004-4994-86d1-9c0df2c57b29",
   "metadata": {},
   "outputs": [],
   "source": [
    "    clean_df = spark.sql(\n",
    "        \"\"\"\n",
    "        SELECT id, h,\n",
    "            CASE WHEN ST_Area(points_agg.geometry) < 0.0001\n",
    "            THEN points_agg.geometry\n",
    "            ELSE ST_Centroid(points_agg.geometry)\n",
    "            END as geometry\n",
    "        FROM points_agg\n",
    "        \"\"\"\n",
    "    )"
   ]
  },
  {
   "cell_type": "code",
   "execution_count": 71,
   "id": "f7591029-d13e-403b-98c9-bf43993a6a6d",
   "metadata": {},
   "outputs": [],
   "source": [
    "import pandas as pd"
   ]
  },
  {
   "cell_type": "code",
   "execution_count": 72,
   "id": "45033b06-c372-43d5-a550-8656992c9f12",
   "metadata": {},
   "outputs": [],
   "source": [
    "a_df = pd.read_json('results_agents.json')"
   ]
  },
  {
   "cell_type": "code",
   "execution_count": 73,
   "id": "abcbbbf9-d98e-4974-9220-4df716c4ad7f",
   "metadata": {},
   "outputs": [
    {
     "data": {
      "text/html": [
       "<div>\n",
       "<style scoped>\n",
       "    .dataframe tbody tr th:only-of-type {\n",
       "        vertical-align: middle;\n",
       "    }\n",
       "\n",
       "    .dataframe tbody tr th {\n",
       "        vertical-align: top;\n",
       "    }\n",
       "\n",
       "    .dataframe thead th {\n",
       "        text-align: right;\n",
       "    }\n",
       "</style>\n",
       "<table border=\"1\" class=\"dataframe\">\n",
       "  <thead>\n",
       "    <tr style=\"text-align: right;\">\n",
       "      <th></th>\n",
       "      <th>status</th>\n",
       "      <th>lat</th>\n",
       "      <th>lon</th>\n",
       "    </tr>\n",
       "  </thead>\n",
       "  <tbody>\n",
       "    <tr>\n",
       "      <th>(1, '022BFF62CB705BCFF0A60D8E16113FD20A6CBBBF')</th>\n",
       "      <td>0</td>\n",
       "      <td>-33.233050</td>\n",
       "      <td>-54.374035</td>\n",
       "    </tr>\n",
       "    <tr>\n",
       "      <th>(1, '03481ADB47899B0C62450CB6BB502A4D70029D59')</th>\n",
       "      <td>0</td>\n",
       "      <td>-34.372265</td>\n",
       "      <td>-55.219536</td>\n",
       "    </tr>\n",
       "    <tr>\n",
       "      <th>(1, '06817CFE95AAF72AB45876F7622504EA7FA5B583')</th>\n",
       "      <td>0</td>\n",
       "      <td>-34.868237</td>\n",
       "      <td>-56.131813</td>\n",
       "    </tr>\n",
       "    <tr>\n",
       "      <th>(1, '0C0CD11D8B6A3C906F2BD35DACC8B315D9408015')</th>\n",
       "      <td>0</td>\n",
       "      <td>-34.875849</td>\n",
       "      <td>-56.106203</td>\n",
       "    </tr>\n",
       "    <tr>\n",
       "      <th>(1, '127B418773A90ED7399B6EE72870354294E79664')</th>\n",
       "      <td>0</td>\n",
       "      <td>-34.865340</td>\n",
       "      <td>-56.056140</td>\n",
       "    </tr>\n",
       "  </tbody>\n",
       "</table>\n",
       "</div>"
      ],
      "text/plain": [
       "                                                 status        lat        lon\n",
       "(1, '022BFF62CB705BCFF0A60D8E16113FD20A6CBBBF')       0 -33.233050 -54.374035\n",
       "(1, '03481ADB47899B0C62450CB6BB502A4D70029D59')       0 -34.372265 -55.219536\n",
       "(1, '06817CFE95AAF72AB45876F7622504EA7FA5B583')       0 -34.868237 -56.131813\n",
       "(1, '0C0CD11D8B6A3C906F2BD35DACC8B315D9408015')       0 -34.875849 -56.106203\n",
       "(1, '127B418773A90ED7399B6EE72870354294E79664')       0 -34.865340 -56.056140"
      ]
     },
     "execution_count": 73,
     "metadata": {},
     "output_type": "execute_result"
    }
   ],
   "source": [
    "a_df.head()"
   ]
  },
  {
   "cell_type": "code",
   "execution_count": 88,
   "id": "7639b603-5261-4f4c-829d-a015a165cb36",
   "metadata": {},
   "outputs": [],
   "source": [
    "a_dfa = zip(*a_df[:10].reset_index()['index'])\n"
   ]
  },
  {
   "cell_type": "code",
   "execution_count": 89,
   "id": "3904e660-55ec-46a8-be12-59d028008cdd",
   "metadata": {},
   "outputs": [
    {
     "data": {
      "text/plain": [
       "<zip at 0x4ed2f18c8>"
      ]
     },
     "execution_count": 89,
     "metadata": {},
     "output_type": "execute_result"
    }
   ],
   "source": [
    "a"
   ]
  },
  {
   "cell_type": "code",
   "execution_count": 74,
   "id": "d16384ab-6a60-47eb-930f-e2569753c98d",
   "metadata": {},
   "outputs": [
    {
     "ename": "TypeError",
     "evalue": "Expected tuple, got str",
     "output_type": "error",
     "traceback": [
      "\u001b[0;31m---------------------------------------------------------------------------\u001b[0m",
      "\u001b[0;31mTypeError\u001b[0m                                 Traceback (most recent call last)",
      "\u001b[0;32m/var/folders/72/_qhpnx297lnfkr7vv6c6k3rr0000gn/T/ipykernel_27809/122047188.py\u001b[0m in \u001b[0;36m<module>\u001b[0;34m\u001b[0m\n\u001b[0;32m----> 1\u001b[0;31m \u001b[0mpd\u001b[0m\u001b[0;34m.\u001b[0m\u001b[0mMultiIndex\u001b[0m\u001b[0;34m.\u001b[0m\u001b[0mfrom_tuples\u001b[0m\u001b[0;34m(\u001b[0m\u001b[0ma_df\u001b[0m\u001b[0;34m.\u001b[0m\u001b[0mindex\u001b[0m\u001b[0;34m,\u001b[0m \u001b[0mnames\u001b[0m\u001b[0;34m=\u001b[0m\u001b[0;34m(\u001b[0m\u001b[0;34m'h'\u001b[0m\u001b[0;34m,\u001b[0m \u001b[0;34m'id'\u001b[0m\u001b[0;34m)\u001b[0m\u001b[0;34m)\u001b[0m\u001b[0;34m\u001b[0m\u001b[0;34m\u001b[0m\u001b[0m\n\u001b[0m",
      "\u001b[0;32m~/Library/Caches/pypoetry/virtualenvs/geocovid-nTeKPpDy-py3.7/lib/python3.7/site-packages/pandas/core/indexes/multi.py\u001b[0m in \u001b[0;36mfrom_tuples\u001b[0;34m(cls, tuples, sortorder, names)\u001b[0m\n\u001b[1;32m    499\u001b[0m                 \u001b[0mtuples\u001b[0m \u001b[0;34m=\u001b[0m \u001b[0mtuples\u001b[0m\u001b[0;34m.\u001b[0m\u001b[0m_values\u001b[0m\u001b[0;34m\u001b[0m\u001b[0;34m\u001b[0m\u001b[0m\n\u001b[1;32m    500\u001b[0m \u001b[0;34m\u001b[0m\u001b[0m\n\u001b[0;32m--> 501\u001b[0;31m             \u001b[0marrays\u001b[0m \u001b[0;34m=\u001b[0m \u001b[0mlist\u001b[0m\u001b[0;34m(\u001b[0m\u001b[0mlib\u001b[0m\u001b[0;34m.\u001b[0m\u001b[0mtuples_to_object_array\u001b[0m\u001b[0;34m(\u001b[0m\u001b[0mtuples\u001b[0m\u001b[0;34m)\u001b[0m\u001b[0;34m.\u001b[0m\u001b[0mT\u001b[0m\u001b[0;34m)\u001b[0m\u001b[0;34m\u001b[0m\u001b[0;34m\u001b[0m\u001b[0m\n\u001b[0m\u001b[1;32m    502\u001b[0m         \u001b[0;32melif\u001b[0m \u001b[0misinstance\u001b[0m\u001b[0;34m(\u001b[0m\u001b[0mtuples\u001b[0m\u001b[0;34m,\u001b[0m \u001b[0mlist\u001b[0m\u001b[0;34m)\u001b[0m\u001b[0;34m:\u001b[0m\u001b[0;34m\u001b[0m\u001b[0;34m\u001b[0m\u001b[0m\n\u001b[1;32m    503\u001b[0m             \u001b[0marrays\u001b[0m \u001b[0;34m=\u001b[0m \u001b[0mlist\u001b[0m\u001b[0;34m(\u001b[0m\u001b[0mlib\u001b[0m\u001b[0;34m.\u001b[0m\u001b[0mto_object_array_tuples\u001b[0m\u001b[0;34m(\u001b[0m\u001b[0mtuples\u001b[0m\u001b[0;34m)\u001b[0m\u001b[0;34m.\u001b[0m\u001b[0mT\u001b[0m\u001b[0;34m)\u001b[0m\u001b[0;34m\u001b[0m\u001b[0;34m\u001b[0m\u001b[0m\n",
      "\u001b[0;32mpandas/_libs/lib.pyx\u001b[0m in \u001b[0;36mpandas._libs.lib.tuples_to_object_array\u001b[0;34m()\u001b[0m\n",
      "\u001b[0;31mTypeError\u001b[0m: Expected tuple, got str"
     ]
    }
   ],
   "source": [
    "pd.MultiIndex.from_tuples(a_df.index, names=('h', 'id'))"
   ]
  },
  {
   "cell_type": "code",
   "execution_count": 97,
   "id": "4a007eec-2eb2-4a91-aa2c-9e2df0fd7635",
   "metadata": {},
   "outputs": [],
   "source": [
    "m_df = pd.read_json('results_model.json')"
   ]
  },
  {
   "cell_type": "code",
   "execution_count": 98,
   "id": "50f1d3b5-aa2b-4a10-9fa8-ddbb17299a2a",
   "metadata": {},
   "outputs": [
    {
     "data": {
      "text/html": [
       "<div>\n",
       "<style scoped>\n",
       "    .dataframe tbody tr th:only-of-type {\n",
       "        vertical-align: middle;\n",
       "    }\n",
       "\n",
       "    .dataframe tbody tr th {\n",
       "        vertical-align: top;\n",
       "    }\n",
       "\n",
       "    .dataframe thead th {\n",
       "        text-align: right;\n",
       "    }\n",
       "</style>\n",
       "<table border=\"1\" class=\"dataframe\">\n",
       "  <thead>\n",
       "    <tr style=\"text-align: right;\">\n",
       "      <th></th>\n",
       "      <th>S</th>\n",
       "      <th>I</th>\n",
       "      <th>R</th>\n",
       "      <th>D</th>\n",
       "      <th>IS</th>\n",
       "      <th>A</th>\n",
       "      <th>NA</th>\n",
       "    </tr>\n",
       "  </thead>\n",
       "  <tbody>\n",
       "    <tr>\n",
       "      <th>0</th>\n",
       "      <td>11969</td>\n",
       "      <td>103</td>\n",
       "      <td>0</td>\n",
       "      <td>0</td>\n",
       "      <td>3</td>\n",
       "      <td>12072</td>\n",
       "      <td>12072</td>\n",
       "    </tr>\n",
       "    <tr>\n",
       "      <th>1</th>\n",
       "      <td>12596</td>\n",
       "      <td>104</td>\n",
       "      <td>0</td>\n",
       "      <td>0</td>\n",
       "      <td>1</td>\n",
       "      <td>12700</td>\n",
       "      <td>12700</td>\n",
       "    </tr>\n",
       "    <tr>\n",
       "      <th>2</th>\n",
       "      <td>12895</td>\n",
       "      <td>104</td>\n",
       "      <td>0</td>\n",
       "      <td>0</td>\n",
       "      <td>0</td>\n",
       "      <td>12999</td>\n",
       "      <td>12999</td>\n",
       "    </tr>\n",
       "    <tr>\n",
       "      <th>3</th>\n",
       "      <td>13118</td>\n",
       "      <td>107</td>\n",
       "      <td>0</td>\n",
       "      <td>0</td>\n",
       "      <td>3</td>\n",
       "      <td>13225</td>\n",
       "      <td>13225</td>\n",
       "    </tr>\n",
       "    <tr>\n",
       "      <th>4</th>\n",
       "      <td>13227</td>\n",
       "      <td>107</td>\n",
       "      <td>0</td>\n",
       "      <td>0</td>\n",
       "      <td>0</td>\n",
       "      <td>13334</td>\n",
       "      <td>13334</td>\n",
       "    </tr>\n",
       "  </tbody>\n",
       "</table>\n",
       "</div>"
      ],
      "text/plain": [
       "       S    I  R  D  IS      A     NA\n",
       "0  11969  103  0  0   3  12072  12072\n",
       "1  12596  104  0  0   1  12700  12700\n",
       "2  12895  104  0  0   0  12999  12999\n",
       "3  13118  107  0  0   3  13225  13225\n",
       "4  13227  107  0  0   0  13334  13334"
      ]
     },
     "execution_count": 98,
     "metadata": {},
     "output_type": "execute_result"
    }
   ],
   "source": [
    "m_df.head()"
   ]
  },
  {
   "cell_type": "code",
   "execution_count": 100,
   "id": "3b2a9b8a-3c42-458a-b5e8-fbbe966b2a7e",
   "metadata": {},
   "outputs": [
    {
     "data": {
      "text/plain": [
       "<AxesSubplot:>"
      ]
     },
     "execution_count": 100,
     "metadata": {},
     "output_type": "execute_result"
    },
    {
     "data": {
      "image/png": "[encoded data removed]",
      "text/plain": [
       "<Figure size 432x288 with 1 Axes>"
      ]
     },
     "metadata": {
      "needs_background": "light"
     },
     "output_type": "display_data"
    }
   ],
   "source": [
    "m_df.plot()"
   ]
  },
  {
   "cell_type": "code",
   "execution_count": null,
   "id": "a00248a8-4e64-409e-8e53-361e23ee4c22",
   "metadata": {},
   "outputs": [],
   "source": []
  }
 ],
 "metadata": {
  "kernelspec": {
   "display_name": "Python 3 (ipykernel)",
   "language": "python",
   "name": "python3"
  },
  "language_info": {
   "codemirror_mode": {
    "name": "ipython",
    "version": 3
   },
   "file_extension": ".py",
   "mimetype": "text/x-python",
   "name": "python",
   "nbconvert_exporter": "python",
   "pygments_lexer": "ipython3",
   "version": "3.7.1"
  }
 },
 "nbformat": 4,
 "nbformat_minor": 5
}
